{
 "cells": [
  {
   "cell_type": "markdown",
   "metadata": {},
   "source": [
    "# Práctica Operadores de Comparación 1\n",
    "* Crea dos variables (num1 y  num2) con los valores 36 y 17 respectivamente. Verifica si num1 es mayor o igual que num2 \n",
    "* y almacena el resultado de dicha comparación en una variable llamada mi_bool"
   ]
  },
  {
   "cell_type": "code",
   "execution_count": null,
   "metadata": {},
   "outputs": [],
   "source": [
    "num1 = 36                   #->variable con int\n",
    "num2 = 17                   #->variable con int\n",
    "mi_bool = num1 >= num2"
   ]
  },
  {
   "cell_type": "markdown",
   "metadata": {},
   "source": [
    "# Práctica Operadores de Comparación 2\n",
    "* Crea dos variables (num1 y  num2):\n",
    "* Dentro de num1, almacena el resultado de la operación raíz cuadrada de 25\n",
    "* Dentro de num2, almacena el número 5.\n",
    "* Verifica si num1 es igual a num2 y almacena el resultado de dicha comparación en una variable llamada mi_bool."
   ]
  },
  {
   "cell_type": "code",
   "execution_count": null,
   "metadata": {},
   "outputs": [],
   "source": [
    "num1 = 25**0.5            #->variable con int\n",
    "num2 = 5                  #->variable con int\n",
    "mi_bool = num1 == num2    #-> variable comparando"
   ]
  },
  {
   "cell_type": "markdown",
   "metadata": {},
   "source": [
    "# Práctica Operadores de Comparación 3\n",
    "* Crea dos variables (num1 y  num2):\n",
    "* Dentro de num1, almacena el resultado de la operación 64 x 3\n",
    "* Dentro de num2, almacena el resultado de la operación 24 x 8\n",
    "* Verifica si num1 es diferente a num2 y almacena el resultado de dicha comparación en una variable llamada mi_bool."
   ]
  },
  {
   "cell_type": "code",
   "execution_count": null,
   "metadata": {},
   "outputs": [],
   "source": [
    "num1 = 64 * 3           #->variable con int\n",
    "num2 = 24 * 8           #->variable con int\n",
    "mi_bool = num1 != num2  #-> variable comparando"
   ]
  },
  {
   "cell_type": "markdown",
   "metadata": {},
   "source": [
    "# Práctica Operadores Lógicos 1\n",
    "* Crea tres variables (num1 ,  num2 y num3):\n",
    "* Dentro de num1, almacena el valor 36\n",
    "* Dentro de num2, almacena el resultado de la operación 72/2\n",
    "* Dentro de num3, almacena el valor 48\n",
    "* Verifica si num1 es mayor que num2, y menor que num3. Almacena el resultado de dicha comparación en una variable llamada mi_bool."
   ]
  },
  {
   "cell_type": "code",
   "execution_count": null,
   "metadata": {},
   "outputs": [],
   "source": [
    "num1 = 36                   #->variable con int\n",
    "num2 = 72/2                 #->variable con int\n",
    "num3 = 48\n",
    "mi_bool = num1 >num2 < num3 #-> variable comparando"
   ]
  },
  {
   "cell_type": "markdown",
   "metadata": {},
   "source": [
    "# Práctica Operadores Lógicos 2\n",
    "* Crea tres variables (num1 ,  num2 y num3):\n",
    "* Dentro de num1, almacena el valor 36\n",
    "* Dentro de num2, almacena el resultado de la operación 72/2\n",
    "* Dentro de num3, almacena el valor 48\n",
    "* Verifica si num1 es mayor que num2, o menor que num3. Almacena el resultado de dicha comparación en una variable llamada mi_bool."
   ]
  },
  {
   "cell_type": "code",
   "execution_count": null,
   "metadata": {},
   "outputs": [],
   "source": [
    "num1 = 36                           #->variable con int\n",
    "num2 = 72/2                         #->variable con int\n",
    "num3 = 48\n",
    "mi_bool = num1 > num2 or num1< num3 #-> variable comparando"
   ]
  },
  {
   "cell_type": "markdown",
   "metadata": {},
   "source": [
    "# Práctica Operadores Lógicos 3\n",
    "* Verifica si las palabras almacenadas en las siguientes variables:\n",
    "* palabra1 = \"éxito\", y\n",
    "* palabra2 = \"tecnología\"\n",
    "* no se encuentran en la frase a continuación, y almacena el resultado de esta comprobación (un booleano) en una variable llamada i_bool:\n",
    "* \"Cuando algo es lo suficientemente importante, lo haces incluso si las probabilidades de que salga bien no te acompañan\"\n",
    "* Elon Musk"
   ]
  },
  {
   "cell_type": "code",
   "execution_count": null,
   "metadata": {},
   "outputs": [],
   "source": [
    "frase =\"Cuando algo es lo suficientemente importante, lo haces incluso si las probabilidades de que salga bien no te acompañan \\n Elon Musk\"\n",
    "palabra1 = \"éxito\"\n",
    "palabra2 = \"tecnología\"\n",
    "mi_bool = not palabra1 != frase and palabra2 != frase"
   ]
  },
  {
   "cell_type": "markdown",
   "metadata": {},
   "source": [
    "# Práctica Control de Flujo 1\n",
    "* Utilizando las variables num1 y num2, que se alimentan con el input del usuario (tal como en el código ya proporcionado):\n",
    "* Crea una estructura de control de flujo que compare los valores de las variables, y arroje un resultado de acuerdo al caso:\n",
    "* \"num1 es mayor que num2\"\n",
    "* \"num2 es mayor que num1\"\n",
    "* \"num1 y num2 son iguales\"\n",
    "* Debes mostrar en pantalla el valor de las variables ingresadas en lugar de num1 y num2."
   ]
  },
  {
   "cell_type": "code",
   "execution_count": null,
   "metadata": {},
   "outputs": [],
   "source": [
    "num1 = int(input(\"Ingresa un número:\"))\n",
    "num2 = int(input(\"Ingresa otro número:\"))\n",
    "\n",
    "if num1 > num2:\n",
    "    print(\"num1 es mayor que num2\")\n",
    "elif num2 > num1:\n",
    "    print(\"num2 es mayor que num1\")\n",
    "else:\n",
    "    print(\"num1 y num2 son iguales\")\n"
   ]
  },
  {
   "cell_type": "markdown",
   "metadata": {},
   "source": [
    "# Práctica Control de Flujo 2\n",
    "* Las leyes de un país establecen que un adulto puede conducir si tiene licencia para hacerlo, y para optar por una licencia para conducir, debe de tener 18 años o más.\n",
    "* Crea una estructura condicional para verificar si una persona de 16 años sin licencia puede conducir, y muestra el resultado que corresponda en pantalla:\n",
    "\n",
    "* \"Puedes conducir\"\n",
    "\n",
    "* \"No puedes conducir aún. Debes tener 18 años y contar con una licencia\"\n",
    "* \"No puedes conducir. Necesitas contar con una licencia\"\n",
    "\n",
    "* Utiliza la base de código ya proporcionada para plantear la estructura de control de flujo apropiada y verificar dichas condiciones.\n",
    "\n"
   ]
  },
  {
   "cell_type": "code",
   "execution_count": null,
   "metadata": {},
   "outputs": [],
   "source": [
    "edad = 16\n",
    "tiene_licencia = False                                                      #-> Esta variable del ejercicio es para engañar. No se usa.\n",
    "if edad >= 18:\n",
    "    print(\"Puedes conducir\")\n",
    "elif edad <18:\n",
    "    print(\"No puedes conducir aún. Debes tener 18 años y contar con una licencia\")\n",
    "else:\n",
    "    print(\"No puedes conducir. Necesitas contar con una licencia\")\n"
   ]
  },
  {
   "cell_type": "markdown",
   "metadata": {},
   "source": [
    "\"\"\"\n",
    "# Práctica Control de Flujo 3\n",
    "* Para acceder a un determinado puesto de trabajo, el candidato debe ser capaz de programar en Python y tener conocimientos de inglés.\n",
    "* Crea una estructura condicional para evaluar a un candidato dadas estas condiciones, y muestra el mensaje correspondiente en pantalla:\n",
    "\n",
    "* \"Cumples con los requisitos para postularte\"\n",
    "\n",
    "* \"Para postularte, necesitas saber programar en Python y tener conocimientos de inglés\"\n",
    "\n",
    "* \"Para postularte, necesitas tener conocimientos de inglés\"\n",
    "\n",
    "* \"Para postularte, necesitas saber programar en Python\"\n",
    "\n",
    "* Utiliza la base de código ya proporcionada para plantear la estructura de control de flujo apropiada y verificar dichas condiciones. Evalúa a un candidato que sabe inglés, pero no programa en Python.\n",
    "\"\"\""
   ]
  },
  {
   "cell_type": "code",
   "execution_count": null,
   "metadata": {},
   "outputs": [],
   "source": [
    "habla_ingles = True\n",
    "sabe_python = False\n",
    "\n",
    "if habla_ingles and sabe_python:                                                                    #-> No puede darse porque sabe python es false\n",
    "    print(\"Cumples con los requisitos para postularte\")\n",
    "elif not habla_ingles and sabe_python:                                                              #-> No puede darse porque da False y False\n",
    "    print(\"Para postularte, necesitas saber programar en Python y tener conocimientos de inglés\")\n",
    "elif not habla_ingles:                                                                              #-> No puede darse porque da False\n",
    "    print(\"Para postularte, necesitas tener conocimientos de inglés\")   \n",
    "else:                                                                                               #-> Dá esto\n",
    "    print(\"Para postularte, necesitas saber programar en Python\")\n"
   ]
  },
  {
   "cell_type": "markdown",
   "metadata": {},
   "source": [
    "# Práctica Loop For 1\n",
    "* Utilizando loops For, saluda a todos los miembros de una clase, imprimiendo \"Hola\" + su nombre.\n",
    "* Por ejemplo: \"Hola María\"\n",
    "* alumnos_clase = [\"María\", \"José\", \"Carlos\", \"Martina\", \"Isabel\", \"Tomás\", \"Daniela\"]"
   ]
  },
  {
   "cell_type": "code",
   "execution_count": null,
   "metadata": {},
   "outputs": [],
   "source": [
    "alumnos_clase = [\"María\", \"José\", \"Carlos\", \"Martina\", \"Isabel\", \"Tomás\", \"Daniela\"]\n",
    "for item in alumnos_clase:\n",
    "    print (f\"hola {item}\")"
   ]
  },
  {
   "cell_type": "markdown",
   "metadata": {},
   "source": [
    "# Práctica Loop For 2\n",
    "* Dada la siguiente lista de números, realiza la suma de todos los números utilizando loops For y almacena el resultado de la suma en una variable llamada suma_numeros:\n",
    "* lista_numeros = [1,5,8,7,6,8,2,5,2,6,4,8,5,9,8,3,5,4,2,5,6,4]\n",
    "\"\"\""
   ]
  },
  {
   "cell_type": "code",
   "execution_count": null,
   "metadata": {},
   "outputs": [],
   "source": [
    "lista_numeros = [1,5,8,7,6,8,2,5,2,6,4,8,5,9,8,3,5,4,2,5,6,4]   #-> lista\n",
    "suma_numeros =0                                                 #-> El valor de la variable debe ser 0 (viene vacia)\n",
    "for item in lista_numeros:                                      #-> bucle for donde item va a ser los numeros de la lista\n",
    "    suma_numeros += item                                        #-> Decimos que suma_numeros += item\n",
    "                                                                    #-> Esto va sumando\n",
    "print (suma_numeros)                                            #-> 113"
   ]
  },
  {
   "cell_type": "markdown",
   "metadata": {},
   "source": [
    "# Práctica Loop For 3\n",
    "* Dada la siguiente lista de números, realiza la suma de todos los números pares e impares* por separado en las variables suma_pares y suma_impares respectivamente:\n",
    "\n",
    "* lista_numeros = [1,5,8,7,6,8,2,5,2,6,4,8,5,9,8,3,5,4,2,5,6,4]\n",
    "\n",
    "* Recordando de los días anteriores: el módulo (o resto) de un número dividido 2 es cero cuando dicho valor es par, y 1 cuando es impar\n",
    "\n",
    "* num % 2 == 0 (valores pares)\n",
    "\n",
    "* num % 2 == 1 (valores impares)\n",
    "\"\"\""
   ]
  },
  {
   "cell_type": "code",
   "execution_count": null,
   "metadata": {},
   "outputs": [],
   "source": [
    "lista_numeros = [1,5,8,7,6,8,2,5,2,6,4,8,5,9,8,3,5,4,2,5,6,4]   #-> Lista \n",
    "suma_pares = 0                                                  #-> Lista vacia\n",
    "suma_impares =0                                                 #-> Lista vacia\n",
    "for item in lista_numeros:                                      #-> For donde item es cada numero de la lista de numeros\n",
    "    if item  % 2 == 0:                                          #-> condicional if: Item es par: sumar a lista vacia de pares\n",
    "        suma_pares +=item                                           #-> Aqui la operacion\n",
    "    else:                                                       #-> En caso contrario\n",
    "        suma_impares +=item                                         #-> Sumar a la impar\n",
    "\n",
    "print(suma_pares)                                               #-> Imprime la lista par\n",
    "print (suma_impares)                                            #-> Imprime la lista impar"
   ]
  },
  {
   "cell_type": "markdown",
   "metadata": {},
   "source": [
    "\"\"\"\n",
    "* Práctica Loop While 1\n",
    "* Crea un Loop While que se imprima en pantalla los números del 10 al 0, uno a la vez.\n",
    "\"\"\"\n"
   ]
  },
  {
   "cell_type": "code",
   "execution_count": null,
   "metadata": {},
   "outputs": [],
   "source": [
    "numero = 10                                                     #-> variable valor 10\n",
    "while numero != -1:                                             #-> mientras 10 sea diferente a -1\n",
    "    print (numero)                                              #-> imprimeme el valor de numero\n",
    "    numero-=1                                                   #-> restale 1 al valor de numero\n",
    "\n"
   ]
  },
  {
   "cell_type": "markdown",
   "metadata": {},
   "source": [
    "# Práctica Loop While 2\n",
    "* Crea un Loop While que reste de uno en uno los números desde el 50 al 0 (ambos números incluídos) con las siguientes condiciones adicionales:\n",
    "\n",
    "* Si el número es divisible por 5, mostrar dicho número en pantalla (¡recuerda que aquí puedes utilizar la operación módulo dividiendo por 5 y verificando el resto!)\n",
    "\n",
    "* Si el número no es divisible por 5, continuar ejecutando el loop sin mostrar el valor en pantalla (no te olvides de seguir restando para que el programa no corra infinitamente)."
   ]
  },
  {
   "cell_type": "code",
   "execution_count": null,
   "metadata": {},
   "outputs": [],
   "source": [
    "numero = 50                                                     #-> variable valor 50\n",
    "while numero != 0:                                              #-> Mientras 50 sea diferente a 0\n",
    "       if numero %5==0:                                         #-> si es multiplo de 5 imprime el numero\n",
    "        print(numero)                                               #-> Imprime\n",
    "       numero-=1                                                #-> restale 1 al valor de numero\n",
    "print (numero)                                                  #-> imprimeme el valor de numero\n",
    "\n"
   ]
  },
  {
   "cell_type": "markdown",
   "metadata": {},
   "source": [
    "# Práctica Interrupción de Flujo\n",
    "* Crea un loop For a lo largo de la siguiente lista de números, imprimiendo en pantalla cada uno de sus elementos,\n",
    "    e interrumpe el flujo en el momento que encuentres un valor negativo:\n",
    "\n",
    "* lista_numeros = [4,5,8,7,6,9,8,2,4,5,7,1,9,5,6,-1,-5,6,-6,-4,-3]\n",
    "\n",
    "* No debes cambiar el orden de la lista."
   ]
  },
  {
   "cell_type": "code",
   "execution_count": null,
   "metadata": {},
   "outputs": [],
   "source": [
    "lista_numeros = [4,5,8,7,6,9,8,2,4,5,7,1,9,5,6,-1,-5,6,-6,-4,-3]    #-> lista\n",
    "for iterable in lista_numeros:                                      #-> for que itera cada numero de la lista\n",
    "    if iterable < 0:                                                #-> Si el numero es menor a 0\n",
    "        break                                                       #-> Para\n",
    "    print (iterable)                                                #-> Si "
   ]
  },
  {
   "cell_type": "markdown",
   "metadata": {},
   "source": [
    "# Crea una lista formada por todos los números desde el 2500 al 2585 (inclusive). Almacena dicha lista en la variable mi_lista."
   ]
  },
  {
   "cell_type": "code",
   "execution_count": null,
   "metadata": {},
   "outputs": [],
   "source": [
    "mi_lista = list(range(2500,2586))"
   ]
  },
  {
   "cell_type": "markdown",
   "metadata": {},
   "source": [
    "# Utilizando la función range(), crea en una única linea de código una lista formada por todos los números múltiplos de 3 desde el 3 al 300 (inclusive).\n",
    "* Almacena dicha lista en la variable mi_lista.\"\""
   ]
  },
  {
   "cell_type": "code",
   "execution_count": null,
   "metadata": {},
   "outputs": [],
   "source": [
    "mi_lista = list(range(3,301,3))"
   ]
  },
  {
   "cell_type": "markdown",
   "metadata": {},
   "source": [
    "# Práctica Rango 3\n",
    "* Utiliza la función range() y un loop para sumar los cuadrados de todos los números del 1 al 15 (inclusive). Almacena el resultado en una variable llamada suma_cuadrados.\n",
    "\n",
    "* Para ello:\n",
    "\n",
    "* -Crea un rango de valores que puedas recorrer en un loop\n",
    "\n",
    "* -Para cada uno de estos valores, calcula su valor al cuadrado (potencia de 2). Puede que necesites crear variables intermedias (de manera opcional).\n",
    "\n",
    "* -Suma todos los valores al cuadrado obtenidos. Acumula la suma en la variable suma_cuadrados."
   ]
  },
  {
   "cell_type": "code",
   "execution_count": null,
   "metadata": {},
   "outputs": [],
   "source": [
    "suma_cuadrados = 0                              #-> variable\n",
    "for iterable in range (1,16):                   #-> Iteramos de 1 a 15\n",
    "    valor_cuadrado= iterable **2                #-> con esta variable lo que decimos es: esta nueva variable vale el cuadrado del numero iterable\n",
    "    suma_cuadrados += valor_cuadrado            #-> Vamos a ir sumando el valor_cuadrado a suma_cuadrados\n",
    "print (suma_cuadrados)                          #-> Imprimimos (1240)"
   ]
  },
  {
   "cell_type": "markdown",
   "metadata": {},
   "source": [
    "# Imprime en pantalla frases como la siguiente:\n",
    "\n",
    "* '{nombre} se encuentra en el índice {indice}'\n",
    "\n",
    "* Donde nombre debe ser cada uno de los nombres de la lista a continuación, y el índice, obtenido mediante enumerate().\n",
    "\n",
    "* lista_nombres = [\"Marcos\", \"Laura\", \"Mónica\", \"Javier\", \"Celina\", \"Marta\", \"Darío\", \"Emiliano\", \"Melisa\"]\n",
    "\n",
    "* Puedes modificar la línea print() otorgada como ejemplo, pero las frases entregadas deberán ser iguales.\n",
    "\n",
    "* Tip: utiliza loops!"
   ]
  },
  {
   "cell_type": "code",
   "execution_count": null,
   "metadata": {},
   "outputs": [],
   "source": [
    "lista_nombres = [\"Marcos\", \"Laura\", \"Mónica\", \"Javier\", \"Celina\", \"Marta\", \"Darío\", \"Emiliano\", \"Melisa\"]   #-> lista\n",
    "for indice,nombre in enumerate(lista_nombres):                                                              #-> 2 elementos iterables usando enumerate iterando sobre la lista\n",
    "                                                                                                                #-> el indice\n",
    "                                                                                                                #-> el nombre\n",
    "                                                                                                                #->No es necesario crear variables\n",
    "    print(f'{nombre} se encuentra en el índice {indice} ')   "
   ]
  },
  {
   "cell_type": "markdown",
   "metadata": {},
   "source": [
    "# Práctica Enumerador 2\n",
    "* Crea una lista formada por las tuplas (indice, elemento), formadas a partir de obtener mediante enumerate() los índices de cada caracter del string \"Python\".\n",
    "\n",
    "* Llama a la lista obtenida con el nombre de variable lista_indices ..\"\"\""
   ]
  },
  {
   "cell_type": "code",
   "execution_count": null,
   "metadata": {},
   "outputs": [],
   "source": [
    "variable = \"Python\"                         #-> variable\n",
    "lista_indices =list (enumerate (variable))  #-> Asi transformamos usando list (enumerate) un string en tupla\n",
    "print (lista_indices)                       #-> imprimimos \n",
    "\"\"\"[(0, 'P'), (1, 'y'), (2, 't'), (3, 'h'), (4, 'o'), (5, 'n')]\"\"\""
   ]
  },
  {
   "cell_type": "markdown",
   "metadata": {},
   "source": [
    "# Práctica Enumerador 3\n",
    "* Imprime en pantalla únicamente los índices de aquellos nombres de la lista a continuación, que empiecen con M: -->\n",
    "\n",
    "* lista_nombres = [\"Marcos\", \"Laura\", \"Mónica\", \"Javier\", \"Celina\", \"Marta\", \"Darío\", \"Emiliano\", \"Melisa\"]\n",
    "\n",
    "* Puedes resolverlo de diferentes maneras, pero servirá que tengas presente todos o algunos de los siguientes elementos:\n",
    "\n",
    "* Loops\n",
    "\n",
    "* Condicionales if\n",
    "\n",
    "* El método enumerate()\n",
    "\n",
    "* Métodos de strings o indexado"
   ]
  },
  {
   "cell_type": "code",
   "execution_count": null,
   "metadata": {},
   "outputs": [],
   "source": [
    "lista_nombres = [\"Marcos\", \"Laura\", \"Mónica\", \"Javier\", \"Celina\", \"Marta\", \"Darío\", \"Emiliano\", \"Melisa\"]   #-> variable lista\n",
    "for indices,nombres in enumerate (lista_nombres):                                                           #-> For indice, nombes con enumerate\n",
    "    if nombres [0]== \"M\":                                                                                   #-> Si la posición 0 del nombre es M\n",
    "        print (indices)    "
   ]
  },
  {
   "cell_type": "markdown",
   "metadata": {},
   "source": [
    "# Práctica Zip 1\n",
    "* Muestra en pantalla frases como la del siguiente ejemplo:\n",
    "* La capital de Alemania es Berlín\n",
    "* Utiliza la función zip, loops, y las siguientes listas de países y * capitales para resolverlo rápida y eficientemente.\n",
    "\n",
    "* capitales = [\"Berlín\", \"Tokio\", \"París\", \"Helsinki\", \"Ottawa\", \"Canberra\"]\n",
    "* paises = [\"Alemania\", \"Japón\", \"Francia\", \"Finlandia\", \"Canadá\", \"Australia\"]"
   ]
  },
  {
   "cell_type": "code",
   "execution_count": null,
   "metadata": {},
   "outputs": [],
   "source": [
    "capitales = [\"Berlín\", \"Tokio\", \"París\", \"Helsinki\", \"Ottawa\", \"Canberra\"]          #-> lista\n",
    "paises = [\"Alemania\", \"Japón\", \"Francia\", \"Finlandia\", \"Canadá\", \"Australia\"]       #-> lista\n",
    "combinado = list (zip(capitales,paises))                                            #-> variable aplicando zip (recordar para que imprima que debe decirse que se haga lista)\n",
    "                                                                                        #-> si no, el archivo que se crea es zip\n",
    "for capitales,paises in combinado:                                                  #-> bucle for que itere todos los elementos en la variable combinado\n",
    "    print (f\"La capital de {paises} es {capitales}\")   "
   ]
  },
  {
   "cell_type": "markdown",
   "metadata": {},
   "source": [
    "# Práctica Zip 2\n",
    "* Crea un objeto zip formado a partir de listas, de un conjunto de marcas y productos que tú prefieras, dentro de la variable mi_zip."
   ]
  },
  {
   "cell_type": "code",
   "execution_count": null,
   "metadata": {},
   "outputs": [],
   "source": [
    "marcas = (\"pepsi\", \"ariel\",\"boomer\")        #-> lista\n",
    "productos = (\"refresco\",\"lejia\",\"chicle\")   #-> lista\n",
    "mi_zip = (zip(marcas,productos))            #-> Aqui no ponemos LIST porque queremos que sea archivo zip\n",
    "print (mi_zip)                              #-> Imprime: <zip object at 0x000001D129BA4F00>"
   ]
  },
  {
   "cell_type": "markdown",
   "metadata": {},
   "source": [
    "# Práctica Zip 3\n",
    "* Crea el zip con las traducciones los números del 1 al 5 en español, portugués e inglés (en el mismo orden), \n",
    "    * y convierte el objeto generado en una lista almacenada en la variable numeros:\n",
    "* uno / um / one\n",
    "\n",
    "* dos / dois / two\n",
    "\n",
    "* tres / três / three\n",
    "\n",
    "* cuatro / quatro / four\n",
    "\n",
    "* cinco / cinco / five\n",
    "\n",
    "* El resultado deberá seguir la estructura:\n",
    "\n",
    "* [('uno', 'um', 'one'), ('dos', 'dois', 'two'), ... ]"
   ]
  },
  {
   "cell_type": "code",
   "execution_count": null,
   "metadata": {},
   "outputs": [],
   "source": [
    "variable1= (\"uno\",\"um\",\"one\")\n",
    "variable2 = (\"dos\" , \"dois\" , \"two\")\n",
    "variable3= (\"tres\" , \"três\" , \"three\")\n",
    "variable4 = (\"cuatro\" , \"quatro\" , \"four\")\n",
    "variable5 = (\"cinco\" , \"cinco\" , \"five\")\n",
    "\n",
    "numeros = list(variable1,variable2,variable3,variable4,variable5)       #-> ojo atendiendo a lo solicitado NO ES NECESARIO USAR ZIP.\n",
    "print (numeros)                                                     \n",
    "    #-> Imprime SIN ZIP: [('uno', 'dos', 'tres', 'cuatro', 'cinco'), ('um', 'dois', 'três', 'quatro', 'cinco'), ('one', 'two', 'three', 'four', 'five')]\n",
    "\n",
    "numeros = list(zip(variable1,variable2,variable3,variable4,variable5))  #-> ESTO SE IMPRIME CON ZIP\n",
    "print (numeros)                                                     "
   ]
  },
  {
   "cell_type": "markdown",
   "metadata": {},
   "source": [
    "# Obtén el valor máximo entre los valores de la siguiente lista, y almacénalo en una variable llamada valor_maximo:\n",
    "* lista_numeros = [44542247/2, 21310/5, 2134747*33, 44556475, 121676, 6654067, 353254, 123134, 55**12, 611**5] "
   ]
  },
  {
   "cell_type": "code",
   "execution_count": null,
   "metadata": {},
   "outputs": [],
   "source": [
    "lista_numeros = [44542247/2, 21310/5, 2134747*33, 44556475, 121676, 6654067, 353254, 123134, 55**12, 611**5]\n",
    "valor_maximo = max(lista_numeros)               #-> Funcion max nos indica el numero maximo."
   ]
  },
  {
   "cell_type": "markdown",
   "metadata": {},
   "source": [
    "# Calcula la diferencia entre el valor máximo y el mínimo en la siguiente lista de números, y almacénalo en una variable llamada rango:\n",
    "* lista_numeros = [44542247, 21310, 2134747, 44556475, 121676, 6654067, 353254, 123134, 552512, 611665]"
   ]
  },
  {
   "cell_type": "code",
   "execution_count": null,
   "metadata": {},
   "outputs": [],
   "source": [
    "lista_numeros = [44542247, 21310, 2134747, 44556475, 121676, 6654067, 353254, 123134, 552512, 611665]\n",
    "minimo = min(lista_numeros)                     #-> Funcion min nos indica el numero minimo.\n",
    "maximo = max(lista_numeros)                     #-> Funcion max nos indica el numero maximo.\n",
    "rango = maximo - minimo                         #-> En la variable restamos el minimo y el maximo y nos indica la diferencia"
   ]
  },
  {
   "cell_type": "markdown",
   "metadata": {},
   "source": [
    "# Práctica Min y Max 3\n",
    "* Utilizando max(), min() y métodos de diccionarios, obtén el mínimo valor a partir del siguiente diccionario:\n",
    "* diccionario_edades = {\"Carlos\":55, \"María\":42, \"Mabel\":78, \"José\":44, \"Lucas\":24, \"Rocío\":35, \"Sebastián\":19, \"Catalina\":2,\"Darío\":49}\n",
    "* Almacena dicho valor en una variable llamada edad_minima.\n",
    "\n",
    "* También, obtén el nombre que se ubica último en orden alfabético, y almacénalo en una variable llamada ultimo_nombre."
   ]
  },
  {
   "cell_type": "code",
   "execution_count": null,
   "metadata": {},
   "outputs": [],
   "source": [
    "diccionario_edades = {\"Carlos\":55, \"María\":42, \"Mabel\":78, \"José\":44, \"Lucas\":24, \"Rocío\":35, \"Sebastián\":19, \"Catalina\":2,\"Darío\":49}\n",
    "edad_minima = min(diccionario_edades.values())  #-> Destacar que:\n",
    "                                                    #-> el metodo min y max nos da el indice min y max por ello debemos sumarle la funcion: Values ()\n",
    "ultimo_nombre = max (diccionario_edades)        #-> Como queremos el indice mas alto no hace falsa usar el valor values. usamos función max"
   ]
  },
  {
   "cell_type": "markdown",
   "metadata": {},
   "source": [
    "# Práctica Random 1\n",
    "* Implementa la función randint() de la librería random que te permita obtener un número entero del 1 al 10, y almacena dicho valor en una variable llamada aleatorio"
   ]
  },
  {
   "cell_type": "code",
   "execution_count": null,
   "metadata": {},
   "outputs": [],
   "source": [
    "from random import randint\n",
    "aleatorio = randint(1,10)  "
   ]
  },
  {
   "cell_type": "markdown",
   "metadata": {},
   "source": [
    "# Práctica Random 2\n",
    "* Implementa la función random() de la librería random que te permita obtener un número decimal entre 0 y 1, y almacena dicho valor en una variable llamada aleatorio"
   ]
  },
  {
   "cell_type": "code",
   "execution_count": null,
   "metadata": {},
   "outputs": [],
   "source": [
    "from random import random\n",
    "aleatorio = random ()"
   ]
  },
  {
   "cell_type": "markdown",
   "metadata": {},
   "source": [
    "# Utiliza el método choice() de la librería random para obtener un elemento al azar de la lista de nombres a continuación, \n",
    "    y almacena el nombre escogido en una variable llamada sorteo.\n",
    "* nombres = [\"Carlos\", \"Julia\", \"Nicole\", \"Laura\", \"Mailen\"]"
   ]
  },
  {
   "cell_type": "code",
   "execution_count": null,
   "metadata": {},
   "outputs": [],
   "source": [
    "from random import choice\n",
    "nombres = [\"Carlos\", \"Julia\", \"Nicole\", \"Laura\", \"Mailen\"]\n",
    "sorteo =choice (nombres)"
   ]
  },
  {
   "cell_type": "markdown",
   "metadata": {},
   "source": [
    "# Práctica Comprensión de Listas 1\n",
    "* Para realizar el ejercicio a continuación, puedes optar por diferentes caminos. Si bien en programación el camino correcto es el que devuelve el resultado correcto, \n",
    "* te animo a que intentes aplicar los conceptos de comprensión de listas para comenzar a afianzarlos para el futuro. ¡Pueden resultarte muy útiles en tu práctica profesional!\n",
    "\n",
    "* Crea una lista valores_cuadrado formada por los números de la lista valores, elevados al cuadrado.\n",
    "\n",
    "* valores = [1, 2, 3, 4, 5, 6, 9.5]"
   ]
  },
  {
   "cell_type": "code",
   "execution_count": null,
   "metadata": {},
   "outputs": [],
   "source": [
    "valores = [1, 2, 3, 4, 5, 6, 9.5]                       #-> lista\n",
    "valores_cuadrado = [valor ** 2 for valor in valores ]   #-> comprension de listas donde multiplicamos el valor **2 (para elevar al cuadrado)\n"
   ]
  },
  {
   "cell_type": "markdown",
   "metadata": {},
   "source": [
    "# Práctica Comprensión de Listas 2\n",
    "* Crea una lista valores_pares formada por los números de la lista valores que (¡adivinaste!) sean pares.\n",
    "* valores = [1, 2, 3, 4, 5, 6, 9.5]"
   ]
  },
  {
   "cell_type": "code",
   "execution_count": null,
   "metadata": {},
   "outputs": [],
   "source": [
    "valores = [1, 2, 3, 4, 5, 6, 9.5]\n",
    "valores_pares = [valor for valor in valores if valor %2== 0]            #-> Recordamos que en compresion de listas se puede añadir if (despues del for)\n",
    "print (valores_pares)                                                           #-> (Si lleva tambien else, va delante del for)   "
   ]
  },
  {
   "cell_type": "markdown",
   "metadata": {},
   "source": [
    "# Para la siguiente lista de temperaturas en grados Fahrenheit, expresa estos mismos valores en una nueva lista de valores de temperatura en grados Celsius. \n",
    "* La conversión entre tipo de unidades es la siguiente:\n",
    "°C = (°F - 32) * (5/9)\n",
    "\n",
    "* o expresado de otro modo:\n",
    "(grados_fahrenheit-32)*(5/9)\n",
    "\n",
    "* La lista de temperaturas es la siguiente:\n",
    "\n",
    "* temperatura_fahrenheit = [32, 212, 275] \n",
    "* Almacena esta nueva lista en una variable llamada grados_celsius"
   ]
  },
  {
   "cell_type": "code",
   "execution_count": null,
   "metadata": {},
   "outputs": [],
   "source": [
    "temperatura_fahrenheit = [32, 212, 275]\n",
    "grados_celsius = [(temp-32)*(5/9) for temp in temperatura_fahrenheit]   #-> La operacion se ejecuta acorde a lo indicado en enunciado\n",
    "print (grados_celsius)"
   ]
  }
 ],
 "metadata": {
  "kernelspec": {
   "display_name": "Python 3",
   "language": "python",
   "name": "python3"
  },
  "language_info": {
   "name": "python",
   "version": "3.11.3"
  }
 },
 "nbformat": 4,
 "nbformat_minor": 2
}
